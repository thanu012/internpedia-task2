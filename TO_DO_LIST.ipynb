{
  "nbformat": 4,
  "nbformat_minor": 0,
  "metadata": {
    "colab": {
      "provenance": [],
      "authorship_tag": "ABX9TyOAPsI1eip08ZUFiGVzcHAz",
      "include_colab_link": true
    },
    "kernelspec": {
      "name": "python3",
      "display_name": "Python 3"
    },
    "language_info": {
      "name": "python"
    }
  },
  "cells": [
    {
      "cell_type": "markdown",
      "metadata": {
        "id": "view-in-github",
        "colab_type": "text"
      },
      "source": [
        "<a href=\"https://colab.research.google.com/github/thanu012/internpedia-task2/blob/main/TO_DO_LIST.ipynb\" target=\"_parent\"><img src=\"https://colab.research.google.com/assets/colab-badge.svg\" alt=\"Open In Colab\"/></a>"
      ]
    },
    {
      "cell_type": "code",
      "source": [
        "import json"
      ],
      "metadata": {
        "id": "ydY1PeD_6dp8"
      },
      "execution_count": null,
      "outputs": []
    },
    {
      "cell_type": "code",
      "source": [
        "import os"
      ],
      "metadata": {
        "id": "BHPQWv_06v1w"
      },
      "execution_count": null,
      "outputs": []
    },
    {
      "cell_type": "code",
      "source": [
        "TASKS_FILE = 'tasks.json'"
      ],
      "metadata": {
        "id": "9Xl1DPqS64mc"
      },
      "execution_count": null,
      "outputs": []
    },
    {
      "cell_type": "code",
      "source": [
        "def load_tasks():\n",
        "    if os.path.exists(TASKS_FILE):\n",
        "        with open(TASKS_FILE, 'r') as file:\n",
        "            return json.load(file)\n",
        "    return []"
      ],
      "metadata": {
        "id": "AKkOvOyz65Mf"
      },
      "execution_count": null,
      "outputs": []
    },
    {
      "cell_type": "code",
      "source": [
        "def save_tasks(tasks):\n",
        "    with open(TASKS_FILE, 'w') as file:\n",
        "        json.dump(tasks, file)"
      ],
      "metadata": {
        "id": "UprpRw-Y6_hi"
      },
      "execution_count": null,
      "outputs": []
    },
    {
      "cell_type": "code",
      "source": [
        "def display_menu():\n",
        "    print(\"\\nTo-Do List Application\")\n",
        "    print(\"1. View tasks\")\n",
        "    print(\"2. Add task\")\n",
        "    print(\"3. Mark task as done\")\n",
        "    print(\"4. Mark task as undone\")\n",
        "    print(\"5. Remove task\")\n",
        "    print(\"6. Save and Exit\")"
      ],
      "metadata": {
        "id": "NGd9nGQZ7M6R"
      },
      "execution_count": null,
      "outputs": []
    },
    {
      "cell_type": "code",
      "source": [
        "def view_tasks(tasks):\n",
        "    if not tasks:\n",
        "        print(\"\\nNo tasks available.\")\n",
        "    else:\n",
        "        print(\"\\nTasks:\")\n",
        "        for i, task in enumerate(tasks):\n",
        "            status = \"Done\" if task['completed'] else \"Not Done\"\n",
        "            print(f\"{i + 1}. {task['title']} - {status}\")"
      ],
      "metadata": {
        "id": "RVL1tiGT7VN-"
      },
      "execution_count": null,
      "outputs": []
    },
    {
      "cell_type": "code",
      "source": [
        "def add_task(tasks):\n",
        "    title = input(\"Enter task title: \").strip()\n",
        "    if title:\n",
        "        tasks.append({'title': title, 'completed': False})\n",
        "        print(\"Task added.\")\n",
        "    else:\n",
        "        print(\"Task title cannot be empty.\")"
      ],
      "metadata": {
        "id": "_CGwocSw7ZBP"
      },
      "execution_count": null,
      "outputs": []
    },
    {
      "cell_type": "code",
      "source": [
        "def mark_task(tasks, completed=True):\n",
        "    if not tasks:\n",
        "        print(\"\\nNo tasks available.\")\n",
        "        return\n",
        "    try:\n",
        "        task_num = int(input(\"Enter task number to mark: \")) - 1\n",
        "        if 0 <= task_num < len(tasks):\n",
        "            tasks[task_num]['completed'] = completed\n",
        "            status = \"done\" if completed else \"undone\"\n",
        "            print(f\"Task marked as {status}.\")\n",
        "        else:\n",
        "            print(\"Invalid task number.\")\n",
        "    except ValueError:\n",
        "        print(\"Invalid input. Please enter a number.\")"
      ],
      "metadata": {
        "id": "wKnuboUm7ecw"
      },
      "execution_count": null,
      "outputs": []
    },
    {
      "cell_type": "code",
      "source": [
        "def remove_task(tasks):\n",
        "    if not tasks:\n",
        "        print(\"\\nNo tasks available.\")\n",
        "        return\n",
        "    try:\n",
        "        task_num = int(input(\"Enter task number to remove: \")) - 1\n",
        "        if 0 <= task_num < len(tasks):\n",
        "            removed_task = tasks.pop(task_num)\n",
        "            print(f\"Task '{removed_task['title']}' removed.\")\n",
        "        else:\n",
        "            print(\"Invalid task number.\")\n",
        "    except ValueError:\n",
        "        print(\"Invalid input. Please enter a number.\")"
      ],
      "metadata": {
        "id": "C7JBX4NO7jVq"
      },
      "execution_count": null,
      "outputs": []
    },
    {
      "cell_type": "code",
      "source": [
        "def main():\n",
        "    tasks = load_tasks()\n",
        "\n",
        "    while True:\n",
        "        display_menu()\n",
        "        choice = input(\"Choose an option: \").strip()\n",
        "\n",
        "        if choice == '1':\n",
        "            view_tasks(tasks)\n",
        "        elif choice == '2':\n",
        "            add_task(tasks)\n",
        "        elif choice == '3':\n",
        "            mark_task(tasks, completed=True)\n",
        "        elif choice == '4':\n",
        "            mark_task(tasks, completed=False)\n",
        "        elif choice == '5':\n",
        "            remove_task(tasks)\n",
        "        elif choice == '6':\n",
        "            save_tasks(tasks)\n",
        "            print(\"Tasks saved. Exiting application.\")\n",
        "            break\n",
        "        else:\n",
        "            print(\"Invalid choice. Please choose a valid option.\")"
      ],
      "metadata": {
        "id": "1P47nesb7mL4"
      },
      "execution_count": null,
      "outputs": []
    },
    {
      "cell_type": "code",
      "source": [
        "if __name__ == \"__main__\":\n",
        "    main()"
      ],
      "metadata": {
        "colab": {
          "base_uri": "https://localhost:8080/"
        },
        "id": "fRNXkBjs7sSP",
        "outputId": "2b0df74d-ae96-4a18-a432-57f834eb72e2"
      },
      "execution_count": null,
      "outputs": [
        {
          "output_type": "stream",
          "name": "stdout",
          "text": [
            "\n",
            "To-Do List Application\n",
            "1. View tasks\n",
            "2. Add task\n",
            "3. Mark task as done\n",
            "4. Mark task as undone\n",
            "5. Remove task\n",
            "6. Save and Exit\n",
            "Choose an option: 1\n",
            "\n",
            "No tasks available.\n",
            "\n",
            "To-Do List Application\n",
            "1. View tasks\n",
            "2. Add task\n",
            "3. Mark task as done\n",
            "4. Mark task as undone\n",
            "5. Remove task\n",
            "6. Save and Exit\n",
            "Choose an option: 2\n",
            "Enter task title: i want to complete my work\n",
            "Task added.\n",
            "\n",
            "To-Do List Application\n",
            "1. View tasks\n",
            "2. Add task\n",
            "3. Mark task as done\n",
            "4. Mark task as undone\n",
            "5. Remove task\n",
            "6. Save and Exit\n",
            "Choose an option: 3\n",
            "Enter task number to mark: 2\n",
            "Invalid task number.\n",
            "\n",
            "To-Do List Application\n",
            "1. View tasks\n",
            "2. Add task\n",
            "3. Mark task as done\n",
            "4. Mark task as undone\n",
            "5. Remove task\n",
            "6. Save and Exit\n",
            "Choose an option: 1\n",
            "\n",
            "Tasks:\n",
            "1. i want to complete my work - Not Done\n",
            "\n",
            "To-Do List Application\n",
            "1. View tasks\n",
            "2. Add task\n",
            "3. Mark task as done\n",
            "4. Mark task as undone\n",
            "5. Remove task\n",
            "6. Save and Exit\n",
            "Choose an option: 3\n",
            "Enter task number to mark: 1\n",
            "Task marked as done.\n",
            "\n",
            "To-Do List Application\n",
            "1. View tasks\n",
            "2. Add task\n",
            "3. Mark task as done\n",
            "4. Mark task as undone\n",
            "5. Remove task\n",
            "6. Save and Exit\n",
            "Choose an option: 4\n",
            "Enter task number to mark: 1\n",
            "Task marked as undone.\n",
            "\n",
            "To-Do List Application\n",
            "1. View tasks\n",
            "2. Add task\n",
            "3. Mark task as done\n",
            "4. Mark task as undone\n",
            "5. Remove task\n",
            "6. Save and Exit\n",
            "Choose an option: 5\n",
            "Enter task number to remove: 1\n",
            "Task 'i want to complete my work' removed.\n",
            "\n",
            "To-Do List Application\n",
            "1. View tasks\n",
            "2. Add task\n",
            "3. Mark task as done\n",
            "4. Mark task as undone\n",
            "5. Remove task\n",
            "6. Save and Exit\n",
            "Choose an option: 6\n",
            "Tasks saved. Exiting application.\n"
          ]
        }
      ]
    },
    {
      "cell_type": "code",
      "source": [],
      "metadata": {
        "id": "UaxHuBcZ74ms"
      },
      "execution_count": null,
      "outputs": []
    }
  ]
}